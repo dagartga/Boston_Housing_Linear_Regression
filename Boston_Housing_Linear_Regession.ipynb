{
 "cells": [
  {
   "cell_type": "markdown",
   "id": "5ef06fe4",
   "metadata": {},
   "source": [
    "# Boston Housing Price Prediction Using Linear Regression\n",
    "\n",
    "The purpose of this notebook is to explore the features associated with the Boston housing dataset that is a popular dataset for learning linear regression and can be found here: https://www.kaggle.com/c/boston-housing\n",
    "\n",
    "This notebook will use EDA to perform feature selection for this regression problem.\n",
    "\n",
    "Linear regression will be tried as well as using L1 (lasso) regularization, L2 (ridge) regularization, and Elastic Net to check how to avoid overfitting"
   ]
  },
  {
   "cell_type": "code",
   "execution_count": null,
   "id": "d2a6ceb4",
   "metadata": {},
   "outputs": [],
   "source": []
  },
  {
   "cell_type": "code",
   "execution_count": null,
   "id": "b4e6c520",
   "metadata": {},
   "outputs": [],
   "source": []
  }
 ],
 "metadata": {
  "kernelspec": {
   "display_name": "Python 3 (ipykernel)",
   "language": "python",
   "name": "python3"
  },
  "language_info": {
   "codemirror_mode": {
    "name": "ipython",
    "version": 3
   },
   "file_extension": ".py",
   "mimetype": "text/x-python",
   "name": "python",
   "nbconvert_exporter": "python",
   "pygments_lexer": "ipython3",
   "version": "3.8.8"
  }
 },
 "nbformat": 4,
 "nbformat_minor": 5
}
