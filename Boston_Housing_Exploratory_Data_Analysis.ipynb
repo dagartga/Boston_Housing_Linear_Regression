{
 "cells": [
  {
   "cell_type": "markdown",
   "id": "5ef06fe4",
   "metadata": {},
   "source": [
    "# Boston Housing Price Prediction: Exploratory Data Analysis\n",
    "\n",
    "The purpose of this notebook is to explore the features associated with the Boston housing dataset that is a popular dataset for learning linear regression and can be found here: https://www.kaggle.com/vikrishnan/boston-house-prices\n",
    "\n",
    "Each record in the database describes a Boston suburb or town. The data was drawn from the Boston Standard Metropolitan Statistical Area (SMSA) in 1970. The attributes are deﬁned as follows (taken from the UCI Machine Learning Repository1): CRIM: per capita crime rate by town\n",
    "\n",
    "    RM: average number of rooms per dwelling\n",
    "    PTRATIO: pupil-teacher ratio by town 12. B: 1000(Bk−0.63)2 where Bk is the proportion of blacks by town 13. \n",
    "    LSTAT: % lower status of the population\n",
    "    MEDV: Median value of owner-occupied homes in 1000s(USD)\n",
    "\n",
    "We can see that the input attributes have a mixture of units.\n",
    "\n",
    "This notebook will use EDA to perform feature selection for this regression problem.\n",
    "\n",
    "Linear regression will be tried as well as using L1 (lasso) regularization, L2 (ridge) regularization, and Elastic Net to check how to avoid overfitting"
   ]
  },
  {
   "cell_type": "code",
   "execution_count": 9,
   "id": "d2a6ceb4",
   "metadata": {},
   "outputs": [],
   "source": [
    "import pandas as pd\n",
    "import numpy as np\n",
    "import matplotlib.pyplot as plt\n",
    "import seaborn as sns\n"
   ]
  },
  {
   "cell_type": "code",
   "execution_count": 10,
   "id": "b4e6c520",
   "metadata": {},
   "outputs": [
    {
     "data": {
      "text/html": [
       "<div>\n",
       "<style scoped>\n",
       "    .dataframe tbody tr th:only-of-type {\n",
       "        vertical-align: middle;\n",
       "    }\n",
       "\n",
       "    .dataframe tbody tr th {\n",
       "        vertical-align: top;\n",
       "    }\n",
       "\n",
       "    .dataframe thead th {\n",
       "        text-align: right;\n",
       "    }\n",
       "</style>\n",
       "<table border=\"1\" class=\"dataframe\">\n",
       "  <thead>\n",
       "    <tr style=\"text-align: right;\">\n",
       "      <th></th>\n",
       "      <th>RM</th>\n",
       "      <th>LSTAT</th>\n",
       "      <th>PTRATIO</th>\n",
       "      <th>MEDV</th>\n",
       "    </tr>\n",
       "  </thead>\n",
       "  <tbody>\n",
       "    <tr>\n",
       "      <th>0</th>\n",
       "      <td>6.575</td>\n",
       "      <td>4.98</td>\n",
       "      <td>15.3</td>\n",
       "      <td>504000.0</td>\n",
       "    </tr>\n",
       "    <tr>\n",
       "      <th>1</th>\n",
       "      <td>6.421</td>\n",
       "      <td>9.14</td>\n",
       "      <td>17.8</td>\n",
       "      <td>453600.0</td>\n",
       "    </tr>\n",
       "    <tr>\n",
       "      <th>2</th>\n",
       "      <td>7.185</td>\n",
       "      <td>4.03</td>\n",
       "      <td>17.8</td>\n",
       "      <td>728700.0</td>\n",
       "    </tr>\n",
       "    <tr>\n",
       "      <th>3</th>\n",
       "      <td>6.998</td>\n",
       "      <td>2.94</td>\n",
       "      <td>18.7</td>\n",
       "      <td>701400.0</td>\n",
       "    </tr>\n",
       "    <tr>\n",
       "      <th>4</th>\n",
       "      <td>7.147</td>\n",
       "      <td>5.33</td>\n",
       "      <td>18.7</td>\n",
       "      <td>760200.0</td>\n",
       "    </tr>\n",
       "  </tbody>\n",
       "</table>\n",
       "</div>"
      ],
      "text/plain": [
       "      RM  LSTAT  PTRATIO      MEDV\n",
       "0  6.575   4.98     15.3  504000.0\n",
       "1  6.421   9.14     17.8  453600.0\n",
       "2  7.185   4.03     17.8  728700.0\n",
       "3  6.998   2.94     18.7  701400.0\n",
       "4  7.147   5.33     18.7  760200.0"
      ]
     },
     "execution_count": 10,
     "metadata": {},
     "output_type": "execute_result"
    }
   ],
   "source": [
    "# import the dataset\n",
    "boston_df = pd.read_csv('boston_housing.csv')\n",
    "boston_df.head()"
   ]
  },
  {
   "cell_type": "markdown",
   "id": "a637bd1d",
   "metadata": {},
   "source": [
    "## Exploratory Data Analysis"
   ]
  },
  {
   "cell_type": "code",
   "execution_count": 11,
   "id": "c32ca1b4",
   "metadata": {},
   "outputs": [
    {
     "data": {
      "text/plain": [
       "(489, 4)"
      ]
     },
     "execution_count": 11,
     "metadata": {},
     "output_type": "execute_result"
    }
   ],
   "source": [
    "boston_df.shape"
   ]
  },
  {
   "cell_type": "code",
   "execution_count": 12,
   "id": "fa22fd06",
   "metadata": {},
   "outputs": [
    {
     "data": {
      "text/html": [
       "<div>\n",
       "<style scoped>\n",
       "    .dataframe tbody tr th:only-of-type {\n",
       "        vertical-align: middle;\n",
       "    }\n",
       "\n",
       "    .dataframe tbody tr th {\n",
       "        vertical-align: top;\n",
       "    }\n",
       "\n",
       "    .dataframe thead th {\n",
       "        text-align: right;\n",
       "    }\n",
       "</style>\n",
       "<table border=\"1\" class=\"dataframe\">\n",
       "  <thead>\n",
       "    <tr style=\"text-align: right;\">\n",
       "      <th></th>\n",
       "      <th>RM</th>\n",
       "      <th>LSTAT</th>\n",
       "      <th>PTRATIO</th>\n",
       "      <th>MEDV</th>\n",
       "    </tr>\n",
       "  </thead>\n",
       "  <tbody>\n",
       "    <tr>\n",
       "      <th>count</th>\n",
       "      <td>489.000000</td>\n",
       "      <td>489.000000</td>\n",
       "      <td>489.000000</td>\n",
       "      <td>4.890000e+02</td>\n",
       "    </tr>\n",
       "    <tr>\n",
       "      <th>mean</th>\n",
       "      <td>6.240288</td>\n",
       "      <td>12.939632</td>\n",
       "      <td>18.516564</td>\n",
       "      <td>4.543429e+05</td>\n",
       "    </tr>\n",
       "    <tr>\n",
       "      <th>std</th>\n",
       "      <td>0.643650</td>\n",
       "      <td>7.081990</td>\n",
       "      <td>2.111268</td>\n",
       "      <td>1.653403e+05</td>\n",
       "    </tr>\n",
       "    <tr>\n",
       "      <th>min</th>\n",
       "      <td>3.561000</td>\n",
       "      <td>1.980000</td>\n",
       "      <td>12.600000</td>\n",
       "      <td>1.050000e+05</td>\n",
       "    </tr>\n",
       "    <tr>\n",
       "      <th>25%</th>\n",
       "      <td>5.880000</td>\n",
       "      <td>7.370000</td>\n",
       "      <td>17.400000</td>\n",
       "      <td>3.507000e+05</td>\n",
       "    </tr>\n",
       "    <tr>\n",
       "      <th>50%</th>\n",
       "      <td>6.185000</td>\n",
       "      <td>11.690000</td>\n",
       "      <td>19.100000</td>\n",
       "      <td>4.389000e+05</td>\n",
       "    </tr>\n",
       "    <tr>\n",
       "      <th>75%</th>\n",
       "      <td>6.575000</td>\n",
       "      <td>17.120000</td>\n",
       "      <td>20.200000</td>\n",
       "      <td>5.187000e+05</td>\n",
       "    </tr>\n",
       "    <tr>\n",
       "      <th>max</th>\n",
       "      <td>8.398000</td>\n",
       "      <td>37.970000</td>\n",
       "      <td>22.000000</td>\n",
       "      <td>1.024800e+06</td>\n",
       "    </tr>\n",
       "  </tbody>\n",
       "</table>\n",
       "</div>"
      ],
      "text/plain": [
       "               RM       LSTAT     PTRATIO          MEDV\n",
       "count  489.000000  489.000000  489.000000  4.890000e+02\n",
       "mean     6.240288   12.939632   18.516564  4.543429e+05\n",
       "std      0.643650    7.081990    2.111268  1.653403e+05\n",
       "min      3.561000    1.980000   12.600000  1.050000e+05\n",
       "25%      5.880000    7.370000   17.400000  3.507000e+05\n",
       "50%      6.185000   11.690000   19.100000  4.389000e+05\n",
       "75%      6.575000   17.120000   20.200000  5.187000e+05\n",
       "max      8.398000   37.970000   22.000000  1.024800e+06"
      ]
     },
     "execution_count": 12,
     "metadata": {},
     "output_type": "execute_result"
    }
   ],
   "source": [
    "boston_df.describe()"
   ]
  },
  {
   "cell_type": "markdown",
   "id": "613c1ec0",
   "metadata": {},
   "source": [
    "### Analysis:\n",
    "The RM feature seems like it should not have a float value for the min nor the max since it rooms are a discrete number.\n",
    "\n",
    "The max of percent lower status is 37.97% which means there is a neighborhood with a lot of low income residents.\n",
    "\n",
    "The pupil teacher ratio looks reasonable as it ranges from 12 pupils per teacher to 22 pupils per teacher"
   ]
  },
  {
   "cell_type": "markdown",
   "id": "6b296849",
   "metadata": {},
   "source": [
    "### Look for missing data"
   ]
  },
  {
   "cell_type": "code",
   "execution_count": 13,
   "id": "87d301e0",
   "metadata": {},
   "outputs": [
    {
     "data": {
      "text/plain": [
       "RM         0\n",
       "LSTAT      0\n",
       "PTRATIO    0\n",
       "MEDV       0\n",
       "dtype: int64"
      ]
     },
     "execution_count": 13,
     "metadata": {},
     "output_type": "execute_result"
    }
   ],
   "source": [
    "boston_df.isna().sum()"
   ]
  },
  {
   "cell_type": "markdown",
   "id": "8bb0456f",
   "metadata": {},
   "source": [
    "No missing data in this dataset"
   ]
  },
  {
   "cell_type": "markdown",
   "id": "07dc9742",
   "metadata": {},
   "source": [
    "## Look for Outliers\n",
    "\n",
    "### Rooms (RM)"
   ]
  },
  {
   "cell_type": "code",
   "execution_count": 43,
   "id": "755a171c",
   "metadata": {},
   "outputs": [
    {
     "data": {
      "image/png": "[encoded data removed]",
      "text/plain": [
       "<Figure size 432x288 with 1 Axes>"
      ]
     },
     "metadata": {
      "needs_background": "light"
     },
     "output_type": "display_data"
    }
   ],
   "source": [
    "# plot a scatter plot for Rooms and MEDV\n",
    "plt.scatter(x=boston_df['RM'],y=boston_df['MEDV'])\n",
    "plt.ylabel('MEDV (Price)')\n",
    "plt.xlabel('Room Count')\n",
    "plt.show()\n"
   ]
  },
  {
   "cell_type": "markdown",
   "id": "43f3733a",
   "metadata": {},
   "source": [
    "### Looks like removing a few outliers will create a very clear relationship between number of rooms and price\n",
    "\n",
    "To remove the outliers, use 1.5 times the Inter Quartile Range above the third quartile or below the first quartile.\n"
   ]
  },
  {
   "cell_type": "code",
   "execution_count": 50,
   "id": "f23e95ff",
   "metadata": {},
   "outputs": [
    {
     "name": "stdout",
     "output_type": "stream",
     "text": [
      "The lower range of outlier is 4.8374999999999995 and the upper range of outlier is 7.617500000000001\n"
     ]
    }
   ],
   "source": [
    "rm_data = boston_df['RM']\n",
    "\n",
    "#calculate interquartile range \n",
    "q3, q1 = np.percentile(rm_data, [75 ,25])\n",
    "\n",
    "# calculate the IQR\n",
    "iqr = q3 - q1\n",
    "\n",
    "# define outliers\n",
    "lower_range = q1 - (1.5*iqr)\n",
    "upper_range = q3 + (1.5*iqr)\n",
    "\n",
    "print(f'The lower range of outlier is {lower_range} and the upper range of outlier is {upper_range}')\n"
   ]
  },
  {
   "cell_type": "code",
   "execution_count": 54,
   "id": "677d45ad",
   "metadata": {},
   "outputs": [
    {
     "data": {
      "image/png": "[encoded data removed]",
      "text/plain": [
       "<Figure size 432x288 with 1 Axes>"
      ]
     },
     "metadata": {
      "needs_background": "light"
     },
     "output_type": "display_data"
    }
   ],
   "source": [
    "no_low_outlier = boston_df[boston_df['RM'] >= lower_range]\n",
    "no_outliers_df = no_low_outlier[no_low_outlier['RM'] <= upper_range]\n",
    "\n",
    "plt.scatter(x=no_outliers_df['RM'], y=no_outliers_df['MEDV'])\n",
    "plt.xlabel('RM')\n",
    "plt.ylabel('Price (MEDV)')\n",
    "plt.show()"
   ]
  },
  {
   "cell_type": "code",
   "execution_count": 58,
   "id": "43431249",
   "metadata": {},
   "outputs": [
    {
     "name": "stdout",
     "output_type": "stream",
     "text": [
      "0.044989775051124746\n"
     ]
    },
    {
     "data": {
      "text/plain": [
       "((467, 5), (489, 5))"
      ]
     },
     "execution_count": 58,
     "metadata": {},
     "output_type": "execute_result"
    }
   ],
   "source": [
    "# calculate the percentage of data removed \n",
    "percent_removed = (boston_df.shape[0] - no_outliers_df.shape[0]) / boston_df.shape[0]\n",
    "\n",
    "print(percent_removed)\n",
    "\n",
    "no_outliers_df.shape, boston_df.shape"
   ]
  },
  {
   "cell_type": "markdown",
   "id": "6686a414",
   "metadata": {},
   "source": [
    "### This removed 22 data points or 4.5% of the data\n",
    "\n",
    "This seems like a significant amount of data to remove but will be worth trying to compare model results.\n",
    "\n",
    "Instead it seems better to simply remove the data points where RM is less than 4"
   ]
  },
  {
   "cell_type": "code",
   "execution_count": 59,
   "id": "554b9e60",
   "metadata": {},
   "outputs": [
    {
     "data": {
      "image/png": "[encoded data removed]",
      "text/plain": [
       "<Figure size 432x288 with 1 Axes>"
      ]
     },
     "metadata": {
      "needs_background": "light"
     },
     "output_type": "display_data"
    }
   ],
   "source": [
    "remove_two_outliers = boston_df[boston_df['RM'] >= 4]\n",
    "\n",
    "plt.scatter(x=remove_two_outliers['RM'], y=remove_two_outliers['MEDV'])\n",
    "plt.xlabel('RM')\n",
    "plt.ylabel('Price (MEDV)')\n",
    "plt.show()"
   ]
  },
  {
   "cell_type": "markdown",
   "id": "23de446d",
   "metadata": {},
   "source": [
    "## Percent of Lower Status (LSTAT)"
   ]
  },
  {
   "cell_type": "code",
   "execution_count": 33,
   "id": "703779bf",
   "metadata": {},
   "outputs": [
    {
     "data": {
      "image/png": "[encoded data removed]",
      "text/plain": [
       "<Figure size 432x288 with 1 Axes>"
      ]
     },
     "metadata": {
      "needs_background": "light"
     },
     "output_type": "display_data"
    }
   ],
   "source": [
    "# look at the scatter plot of percent lower status and MEDV\n",
    "plt.scatter(x=boston_df['LSTAT'], y=boston_df['MEDV'])\n",
    "plt.xlabel('Percent Lower Status (LSTAT)')\n",
    "plt.ylabel('Price (MEDV)')\n",
    "plt.show()"
   ]
  },
  {
   "cell_type": "markdown",
   "id": "921ab80f",
   "metadata": {},
   "source": [
    "### Does not look exactly linear, looks almost like an inverse relationship (y = 1/x)\n",
    "LSTAT may need a transformation to get the optimal fit\n",
    "\n",
    "There do not seem to be many outliers. Perhaps a data point at around LSTAT 29 and MEDV 0.5 can be removed"
   ]
  },
  {
   "cell_type": "code",
   "execution_count": 65,
   "id": "aa76d2bb",
   "metadata": {},
   "outputs": [
    {
     "data": {
      "text/html": [
       "<div>\n",
       "<style scoped>\n",
       "    .dataframe tbody tr th:only-of-type {\n",
       "        vertical-align: middle;\n",
       "    }\n",
       "\n",
       "    .dataframe tbody tr th {\n",
       "        vertical-align: top;\n",
       "    }\n",
       "\n",
       "    .dataframe thead th {\n",
       "        text-align: right;\n",
       "    }\n",
       "</style>\n",
       "<table border=\"1\" class=\"dataframe\">\n",
       "  <thead>\n",
       "    <tr style=\"text-align: right;\">\n",
       "      <th></th>\n",
       "      <th>RM</th>\n",
       "      <th>LSTAT</th>\n",
       "      <th>PTRATIO</th>\n",
       "      <th>MEDV</th>\n",
       "      <th>PricePerRoom</th>\n",
       "    </tr>\n",
       "  </thead>\n",
       "  <tbody>\n",
       "    <tr>\n",
       "      <th>207</th>\n",
       "      <td>5.412</td>\n",
       "      <td>29.55</td>\n",
       "      <td>18.6</td>\n",
       "      <td>497700.0</td>\n",
       "      <td>91962.305987</td>\n",
       "    </tr>\n",
       "    <tr>\n",
       "      <th>148</th>\n",
       "      <td>5.186</td>\n",
       "      <td>28.32</td>\n",
       "      <td>14.7</td>\n",
       "      <td>373800.0</td>\n",
       "      <td>72078.673351</td>\n",
       "    </tr>\n",
       "    <tr>\n",
       "      <th>8</th>\n",
       "      <td>5.631</td>\n",
       "      <td>29.93</td>\n",
       "      <td>15.2</td>\n",
       "      <td>346500.0</td>\n",
       "      <td>61534.363346</td>\n",
       "    </tr>\n",
       "    <tr>\n",
       "      <th>126</th>\n",
       "      <td>5.613</td>\n",
       "      <td>27.26</td>\n",
       "      <td>19.1</td>\n",
       "      <td>329700.0</td>\n",
       "      <td>58738.642437</td>\n",
       "    </tr>\n",
       "    <tr>\n",
       "      <th>147</th>\n",
       "      <td>4.926</td>\n",
       "      <td>29.53</td>\n",
       "      <td>14.7</td>\n",
       "      <td>306600.0</td>\n",
       "      <td>62241.169306</td>\n",
       "    </tr>\n",
       "    <tr>\n",
       "      <th>48</th>\n",
       "      <td>5.399</td>\n",
       "      <td>30.81</td>\n",
       "      <td>17.9</td>\n",
       "      <td>302400.0</td>\n",
       "      <td>56010.372291</td>\n",
       "    </tr>\n",
       "    <tr>\n",
       "      <th>145</th>\n",
       "      <td>6.130</td>\n",
       "      <td>27.80</td>\n",
       "      <td>14.7</td>\n",
       "      <td>289800.0</td>\n",
       "      <td>47275.693312</td>\n",
       "    </tr>\n",
       "    <tr>\n",
       "      <th>32</th>\n",
       "      <td>5.950</td>\n",
       "      <td>27.71</td>\n",
       "      <td>21.0</td>\n",
       "      <td>277200.0</td>\n",
       "      <td>46588.235294</td>\n",
       "    </tr>\n",
       "    <tr>\n",
       "      <th>144</th>\n",
       "      <td>4.903</td>\n",
       "      <td>29.29</td>\n",
       "      <td>14.7</td>\n",
       "      <td>247800.0</td>\n",
       "      <td>50540.485417</td>\n",
       "    </tr>\n",
       "    <tr>\n",
       "      <th>369</th>\n",
       "      <td>4.652</td>\n",
       "      <td>28.28</td>\n",
       "      <td>20.2</td>\n",
       "      <td>220500.0</td>\n",
       "      <td>47398.968186</td>\n",
       "    </tr>\n",
       "    <tr>\n",
       "      <th>371</th>\n",
       "      <td>4.880</td>\n",
       "      <td>30.62</td>\n",
       "      <td>20.2</td>\n",
       "      <td>214200.0</td>\n",
       "      <td>43893.442623</td>\n",
       "    </tr>\n",
       "    <tr>\n",
       "      <th>367</th>\n",
       "      <td>4.368</td>\n",
       "      <td>30.63</td>\n",
       "      <td>20.2</td>\n",
       "      <td>184800.0</td>\n",
       "      <td>42307.692308</td>\n",
       "    </tr>\n",
       "    <tr>\n",
       "      <th>387</th>\n",
       "      <td>5.531</td>\n",
       "      <td>27.38</td>\n",
       "      <td>20.2</td>\n",
       "      <td>178500.0</td>\n",
       "      <td>32272.645091</td>\n",
       "    </tr>\n",
       "    <tr>\n",
       "      <th>473</th>\n",
       "      <td>5.093</td>\n",
       "      <td>29.68</td>\n",
       "      <td>20.1</td>\n",
       "      <td>170100.0</td>\n",
       "      <td>33398.782643</td>\n",
       "    </tr>\n",
       "    <tr>\n",
       "      <th>368</th>\n",
       "      <td>5.277</td>\n",
       "      <td>30.81</td>\n",
       "      <td>20.2</td>\n",
       "      <td>151200.0</td>\n",
       "      <td>28652.643547</td>\n",
       "    </tr>\n",
       "    <tr>\n",
       "      <th>398</th>\n",
       "      <td>6.434</td>\n",
       "      <td>29.05</td>\n",
       "      <td>20.2</td>\n",
       "      <td>151200.0</td>\n",
       "      <td>23500.155424</td>\n",
       "    </tr>\n",
       "    <tr>\n",
       "      <th>382</th>\n",
       "      <td>5.852</td>\n",
       "      <td>29.97</td>\n",
       "      <td>20.2</td>\n",
       "      <td>132300.0</td>\n",
       "      <td>22607.655502</td>\n",
       "    </tr>\n",
       "    <tr>\n",
       "      <th>381</th>\n",
       "      <td>5.453</td>\n",
       "      <td>30.59</td>\n",
       "      <td>20.2</td>\n",
       "      <td>105000.0</td>\n",
       "      <td>19255.455712</td>\n",
       "    </tr>\n",
       "  </tbody>\n",
       "</table>\n",
       "</div>"
      ],
      "text/plain": [
       "        RM  LSTAT  PTRATIO      MEDV  PricePerRoom\n",
       "207  5.412  29.55     18.6  497700.0  91962.305987\n",
       "148  5.186  28.32     14.7  373800.0  72078.673351\n",
       "8    5.631  29.93     15.2  346500.0  61534.363346\n",
       "126  5.613  27.26     19.1  329700.0  58738.642437\n",
       "147  4.926  29.53     14.7  306600.0  62241.169306\n",
       "48   5.399  30.81     17.9  302400.0  56010.372291\n",
       "145  6.130  27.80     14.7  289800.0  47275.693312\n",
       "32   5.950  27.71     21.0  277200.0  46588.235294\n",
       "144  4.903  29.29     14.7  247800.0  50540.485417\n",
       "369  4.652  28.28     20.2  220500.0  47398.968186\n",
       "371  4.880  30.62     20.2  214200.0  43893.442623\n",
       "367  4.368  30.63     20.2  184800.0  42307.692308\n",
       "387  5.531  27.38     20.2  178500.0  32272.645091\n",
       "473  5.093  29.68     20.1  170100.0  33398.782643\n",
       "368  5.277  30.81     20.2  151200.0  28652.643547\n",
       "398  6.434  29.05     20.2  151200.0  23500.155424\n",
       "382  5.852  29.97     20.2  132300.0  22607.655502\n",
       "381  5.453  30.59     20.2  105000.0  19255.455712"
      ]
     },
     "execution_count": 65,
     "metadata": {},
     "output_type": "execute_result"
    }
   ],
   "source": [
    "# find the data point around LSTAT 29 and MEDV 0.5\n",
    "boolean_1 = (boston_df['LSTAT'] > 27)&(boston_df['LSTAT'] < 31)\n",
    "first_filter_df = boston_df[boolean_1]\n",
    "second_filter_df = first_filter_df[first_filter_df['MEDV'] > 0.4].sort_values(by='MEDV', ascending=False)\n",
    "second_filter_df"
   ]
  },
  {
   "cell_type": "markdown",
   "id": "968f8219",
   "metadata": {},
   "source": [
    "### The outlier is at index 207. That row can be removed."
   ]
  },
  {
   "cell_type": "code",
   "execution_count": 66,
   "id": "fbeb7864",
   "metadata": {},
   "outputs": [
    {
     "data": {
      "text/plain": [
       "((489, 5), (488, 5))"
      ]
     },
     "execution_count": 66,
     "metadata": {},
     "output_type": "execute_result"
    }
   ],
   "source": [
    "lstat_filtered_df = boston_df.drop(index=207, axis=0)\n",
    "boston_df.shape, lstat_filtered_df.shape"
   ]
  },
  {
   "cell_type": "code",
   "execution_count": 67,
   "id": "7b12defe",
   "metadata": {},
   "outputs": [
    {
     "data": {
      "image/png": "[encoded data removed]",
      "text/plain": [
       "<Figure size 432x288 with 1 Axes>"
      ]
     },
     "metadata": {
      "needs_background": "light"
     },
     "output_type": "display_data"
    }
   ],
   "source": [
    "# plot the new dataframe MEDV vs LSTAT\n",
    "plt.scatter(x=lstat_filtered_df['LSTAT'], y=lstat_filtered_df['MEDV'])\n",
    "plt.xlabel('Percent Lower Income')\n",
    "plt.ylabel('Price (MEDV)')\n",
    "plt.show()\n"
   ]
  },
  {
   "cell_type": "markdown",
   "id": "be6e1c24",
   "metadata": {},
   "source": [
    "### Removing the one data point makes the relationship look better"
   ]
  },
  {
   "cell_type": "markdown",
   "id": "b50c89ec",
   "metadata": {},
   "source": [
    "## PTRATIO"
   ]
  },
  {
   "cell_type": "code",
   "execution_count": 30,
   "id": "104aea30",
   "metadata": {},
   "outputs": [
    {
     "data": {
      "image/png": "[encoded data removed]",
      "text/plain": [
       "<Figure size 432x288 with 1 Axes>"
      ]
     },
     "metadata": {
      "needs_background": "light"
     },
     "output_type": "display_data"
    }
   ],
   "source": [
    "# look at boxplot for Parent Teacher Ratio\n",
    "plt.boxplot(boston_df['PTRATIO'])\n",
    "plt.title('PTRATIO')\n",
    "plt.ylabel('Pupil Teacher Ratio')\n",
    "plt.show()"
   ]
  },
  {
   "cell_type": "code",
   "execution_count": 34,
   "id": "f29f5666",
   "metadata": {},
   "outputs": [
    {
     "data": {
      "image/png": "[encoded data removed]",
      "text/plain": [
       "<Figure size 432x288 with 1 Axes>"
      ]
     },
     "metadata": {
      "needs_background": "light"
     },
     "output_type": "display_data"
    }
   ],
   "source": [
    "# look at a scatter plot of Parent Teacher Ratio and MEDV\n",
    "plt.scatter(x=boston_df['PTRATIO'], y=boston_df['MEDV'])\n",
    "plt.xlabel('Parent Teacher Ratio (PTRATIO)')\n",
    "plt.ylabel('Price (MEDV)')\n",
    "plt.show()"
   ]
  },
  {
   "cell_type": "markdown",
   "id": "7d421db3",
   "metadata": {},
   "source": [
    "### There is not a strong relationship between parent teacher ratio and price\n",
    "One interesting analysis is whether you adjust for the number of rooms of the house you get a clearer relationship.\n",
    "\n",
    "Try dividing the price of the house by the number of rooms and plot versus the Parent Teacher Ratio"
   ]
  },
  {
   "cell_type": "code",
   "execution_count": 68,
   "id": "f5624291",
   "metadata": {},
   "outputs": [
    {
     "data": {
      "image/png": "[encoded data removed]",
      "text/plain": [
       "<Figure size 432x288 with 1 Axes>"
      ]
     },
     "metadata": {
      "needs_background": "light"
     },
     "output_type": "display_data"
    }
   ],
   "source": [
    "# divide the price by the number of rooms\n",
    "boston_df['PricePerRoom'] = boston_df['MEDV'] / boston_df['RM']\n",
    "\n",
    "plt.scatter(x=boston_df['PTRATIO'], y=boston_df['PricePerRoom'])\n",
    "plt.ylabel('Price Per Room')\n",
    "plt.xlabel('Parent Teacher Ratio (PTRATIO)')\n",
    "plt.show()"
   ]
  },
  {
   "cell_type": "markdown",
   "id": "6df6c659",
   "metadata": {},
   "source": [
    "### A linear relationship is slightly more apparent, but there are some outliers.\n",
    "This may not be a good feature for predicting housing price. If it is used at all, it should only have a small impact."
   ]
  },
  {
   "cell_type": "markdown",
   "id": "a2bca8ee",
   "metadata": {},
   "source": [
    "## Remove the extreme outlier from the PTRATIO\n",
    "\n",
    "The outlier of interest is between 20-21 PTRATIO and 160000"
   ]
  },
  {
   "cell_type": "code",
   "execution_count": 70,
   "id": "01a746df",
   "metadata": {},
   "outputs": [
    {
     "data": {
      "text/html": [
       "<div>\n",
       "<style scoped>\n",
       "    .dataframe tbody tr th:only-of-type {\n",
       "        vertical-align: middle;\n",
       "    }\n",
       "\n",
       "    .dataframe tbody tr th {\n",
       "        vertical-align: top;\n",
       "    }\n",
       "\n",
       "    .dataframe thead th {\n",
       "        text-align: right;\n",
       "    }\n",
       "</style>\n",
       "<table border=\"1\" class=\"dataframe\">\n",
       "  <thead>\n",
       "    <tr style=\"text-align: right;\">\n",
       "      <th></th>\n",
       "      <th>RM</th>\n",
       "      <th>LSTAT</th>\n",
       "      <th>PTRATIO</th>\n",
       "      <th>MEDV</th>\n",
       "      <th>PricePerRoom</th>\n",
       "    </tr>\n",
       "  </thead>\n",
       "  <tbody>\n",
       "    <tr>\n",
       "      <th>353</th>\n",
       "      <td>3.561</td>\n",
       "      <td>7.12</td>\n",
       "      <td>20.2</td>\n",
       "      <td>577500.0</td>\n",
       "      <td>162173.546757</td>\n",
       "    </tr>\n",
       "  </tbody>\n",
       "</table>\n",
       "</div>"
      ],
      "text/plain": [
       "        RM  LSTAT  PTRATIO      MEDV   PricePerRoom\n",
       "353  3.561   7.12     20.2  577500.0  162173.546757"
      ]
     },
     "execution_count": 70,
     "metadata": {},
     "output_type": "execute_result"
    }
   ],
   "source": [
    "# filter the dataset\n",
    "boston_df[boston_df['PricePerRoom'] > 150000]"
   ]
  },
  {
   "cell_type": "code",
   "execution_count": 71,
   "id": "da159625",
   "metadata": {},
   "outputs": [
    {
     "data": {
      "text/plain": [
       "((488, 5), (489, 5))"
      ]
     },
     "execution_count": 71,
     "metadata": {},
     "output_type": "execute_result"
    }
   ],
   "source": [
    "# drop the value at index 353\n",
    "price_per_room_filtered = boston_df.drop(index=353, axis=0)\n",
    "price_per_room_filtered.shape, boston_df.shape"
   ]
  },
  {
   "cell_type": "code",
   "execution_count": 72,
   "id": "d8168e7a",
   "metadata": {},
   "outputs": [
    {
     "data": {
      "image/png": "[encoded data removed]",
      "text/plain": [
       "<Figure size 432x288 with 1 Axes>"
      ]
     },
     "metadata": {
      "needs_background": "light"
     },
     "output_type": "display_data"
    }
   ],
   "source": [
    "plt.scatter(x=price_per_room_filtered['PTRATIO'], y=price_per_room_filtered['PricePerRoom'])\n",
    "plt.xlabel('PTRATIO')\n",
    "plt.ylabel('PricePerRoom')\n",
    "plt.show()"
   ]
  },
  {
   "cell_type": "markdown",
   "id": "f8fc0028",
   "metadata": {},
   "source": [
    "### This now fits into a narrower range and looks to have a slight negative correlation with price per room"
   ]
  },
  {
   "cell_type": "markdown",
   "id": "f27f288e",
   "metadata": {},
   "source": [
    "## Final Outlier Analysis:\n",
    "\n",
    "It will good for comparison of how the model performs to test the full dataset and a dataset that removes the oultiers of the rooms, the one outlier from the LSTAT, and the one outlier from the PTRATIO\n",
    "\n",
    "Take the RM filtered dataset and remove index values 207 and 353, if they are not already removed from the previous filtering"
   ]
  },
  {
   "cell_type": "code",
   "execution_count": 80,
   "id": "239c66ef",
   "metadata": {},
   "outputs": [
    {
     "name": "stdout",
     "output_type": "stream",
     "text": [
      "Is index 207 in the no_outliers_df?\n",
      "True\n",
      "\n",
      "Is index 353 in the no_outliers_df?\n",
      "False\n"
     ]
    }
   ],
   "source": [
    "# check for the indices in the RM filtered dataframe no_outliers_df\n",
    "print('Is index 207 in the no_outliers_df?')\n",
    "print(207 in no_outliers_df.index)\n",
    "print('\\nIs index 353 in the no_outliers_df?')\n",
    "print(353 in no_outliers_df.index)"
   ]
  },
  {
   "cell_type": "code",
   "execution_count": 81,
   "id": "77d49ab7",
   "metadata": {},
   "outputs": [
    {
     "data": {
      "text/plain": [
       "((466, 5), (489, 5))"
      ]
     },
     "execution_count": 81,
     "metadata": {},
     "output_type": "execute_result"
    }
   ],
   "source": [
    "# drop the index 207\n",
    "no_outliers_boston_df = no_outliers_df.drop(index=207, axis=0)\n",
    "no_outliers_boston_df.shape, boston_df.shape"
   ]
  },
  {
   "cell_type": "code",
   "execution_count": 82,
   "id": "510300ce",
   "metadata": {},
   "outputs": [],
   "source": [
    "# the dataframe to csv\n",
    "no_outliers_boston_df.to_csv('no_outliers_boston.csv', index=False)"
   ]
  },
  {
   "cell_type": "code",
   "execution_count": null,
   "id": "47c1070f",
   "metadata": {},
   "outputs": [],
   "source": []
  }
 ],
 "metadata": {
  "kernelspec": {
   "display_name": "Python 3 (ipykernel)",
   "language": "python",
   "name": "python3"
  },
  "language_info": {
   "codemirror_mode": {
    "name": "ipython",
    "version": 3
   },
   "file_extension": ".py",
   "mimetype": "text/x-python",
   "name": "python",
   "nbconvert_exporter": "python",
   "pygments_lexer": "ipython3",
   "version": "3.8.8"
  }
 },
 "nbformat": 4,
 "nbformat_minor": 5
}
